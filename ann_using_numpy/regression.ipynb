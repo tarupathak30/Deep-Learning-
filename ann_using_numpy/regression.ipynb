{
  "nbformat": 4,
  "nbformat_minor": 0,
  "metadata": {
    "colab": {
      "provenance": [],
      "authorship_tag": "ABX9TyMbnelblAjnoG9loWqqdS0X",
      "include_colab_link": true
    },
    "kernelspec": {
      "name": "python3",
      "display_name": "Python 3"
    },
    "language_info": {
      "name": "python"
    }
  },
  "cells": [
    {
      "cell_type": "markdown",
      "metadata": {
        "id": "view-in-github",
        "colab_type": "text"
      },
      "source": [
        "<a href=\"https://colab.research.google.com/github/tarupathak30/Deep-Learning-/blob/main/ann_using_numpy/regression.ipynb\" target=\"_parent\"><img src=\"https://colab.research.google.com/assets/colab-badge.svg\" alt=\"Open In Colab\"/></a>"
      ]
    },
    {
      "cell_type": "markdown",
      "source": [
        "implementing ANN using numpy"
      ],
      "metadata": {
        "id": "rXAAnUo7LARK"
      }
    },
    {
      "cell_type": "code",
      "execution_count": 174,
      "metadata": {
        "id": "c7yI3qHkCsYU"
      },
      "outputs": [],
      "source": [
        "import numpy as np\n",
        "import pandas as pd"
      ]
    },
    {
      "cell_type": "code",
      "source": [
        "df = pd.DataFrame([[8, 8, 4], [7, 9, 5], [6, 10, 6], [5, 12, 7]], columns=['cgpa', 'resume_score', 'lpa'])"
      ],
      "metadata": {
        "id": "n9dRO3MzLI5D"
      },
      "execution_count": 175,
      "outputs": []
    },
    {
      "cell_type": "code",
      "source": [
        "df"
      ],
      "metadata": {
        "colab": {
          "base_uri": "https://localhost:8080/",
          "height": 175
        },
        "id": "Ddnh_U-ELXow",
        "outputId": "5e39f88e-4b9a-4b79-f7e2-3f1a4d38300e"
      },
      "execution_count": 176,
      "outputs": [
        {
          "output_type": "execute_result",
          "data": {
            "text/plain": [
              "   cgpa  resume_score  lpa\n",
              "0     8             8    4\n",
              "1     7             9    5\n",
              "2     6            10    6\n",
              "3     5            12    7"
            ],
            "text/html": [
              "\n",
              "  <div id=\"df-1afdc073-a9f3-42af-9f5e-b108f1713f73\" class=\"colab-df-container\">\n",
              "    <div>\n",
              "<style scoped>\n",
              "    .dataframe tbody tr th:only-of-type {\n",
              "        vertical-align: middle;\n",
              "    }\n",
              "\n",
              "    .dataframe tbody tr th {\n",
              "        vertical-align: top;\n",
              "    }\n",
              "\n",
              "    .dataframe thead th {\n",
              "        text-align: right;\n",
              "    }\n",
              "</style>\n",
              "<table border=\"1\" class=\"dataframe\">\n",
              "  <thead>\n",
              "    <tr style=\"text-align: right;\">\n",
              "      <th></th>\n",
              "      <th>cgpa</th>\n",
              "      <th>resume_score</th>\n",
              "      <th>lpa</th>\n",
              "    </tr>\n",
              "  </thead>\n",
              "  <tbody>\n",
              "    <tr>\n",
              "      <th>0</th>\n",
              "      <td>8</td>\n",
              "      <td>8</td>\n",
              "      <td>4</td>\n",
              "    </tr>\n",
              "    <tr>\n",
              "      <th>1</th>\n",
              "      <td>7</td>\n",
              "      <td>9</td>\n",
              "      <td>5</td>\n",
              "    </tr>\n",
              "    <tr>\n",
              "      <th>2</th>\n",
              "      <td>6</td>\n",
              "      <td>10</td>\n",
              "      <td>6</td>\n",
              "    </tr>\n",
              "    <tr>\n",
              "      <th>3</th>\n",
              "      <td>5</td>\n",
              "      <td>12</td>\n",
              "      <td>7</td>\n",
              "    </tr>\n",
              "  </tbody>\n",
              "</table>\n",
              "</div>\n",
              "    <div class=\"colab-df-buttons\">\n",
              "\n",
              "  <div class=\"colab-df-container\">\n",
              "    <button class=\"colab-df-convert\" onclick=\"convertToInteractive('df-1afdc073-a9f3-42af-9f5e-b108f1713f73')\"\n",
              "            title=\"Convert this dataframe to an interactive table.\"\n",
              "            style=\"display:none;\">\n",
              "\n",
              "  <svg xmlns=\"http://www.w3.org/2000/svg\" height=\"24px\" viewBox=\"0 -960 960 960\">\n",
              "    <path d=\"M120-120v-720h720v720H120Zm60-500h600v-160H180v160Zm220 220h160v-160H400v160Zm0 220h160v-160H400v160ZM180-400h160v-160H180v160Zm440 0h160v-160H620v160ZM180-180h160v-160H180v160Zm440 0h160v-160H620v160Z\"/>\n",
              "  </svg>\n",
              "    </button>\n",
              "\n",
              "  <style>\n",
              "    .colab-df-container {\n",
              "      display:flex;\n",
              "      gap: 12px;\n",
              "    }\n",
              "\n",
              "    .colab-df-convert {\n",
              "      background-color: #E8F0FE;\n",
              "      border: none;\n",
              "      border-radius: 50%;\n",
              "      cursor: pointer;\n",
              "      display: none;\n",
              "      fill: #1967D2;\n",
              "      height: 32px;\n",
              "      padding: 0 0 0 0;\n",
              "      width: 32px;\n",
              "    }\n",
              "\n",
              "    .colab-df-convert:hover {\n",
              "      background-color: #E2EBFA;\n",
              "      box-shadow: 0px 1px 2px rgba(60, 64, 67, 0.3), 0px 1px 3px 1px rgba(60, 64, 67, 0.15);\n",
              "      fill: #174EA6;\n",
              "    }\n",
              "\n",
              "    .colab-df-buttons div {\n",
              "      margin-bottom: 4px;\n",
              "    }\n",
              "\n",
              "    [theme=dark] .colab-df-convert {\n",
              "      background-color: #3B4455;\n",
              "      fill: #D2E3FC;\n",
              "    }\n",
              "\n",
              "    [theme=dark] .colab-df-convert:hover {\n",
              "      background-color: #434B5C;\n",
              "      box-shadow: 0px 1px 3px 1px rgba(0, 0, 0, 0.15);\n",
              "      filter: drop-shadow(0px 1px 2px rgba(0, 0, 0, 0.3));\n",
              "      fill: #FFFFFF;\n",
              "    }\n",
              "  </style>\n",
              "\n",
              "    <script>\n",
              "      const buttonEl =\n",
              "        document.querySelector('#df-1afdc073-a9f3-42af-9f5e-b108f1713f73 button.colab-df-convert');\n",
              "      buttonEl.style.display =\n",
              "        google.colab.kernel.accessAllowed ? 'block' : 'none';\n",
              "\n",
              "      async function convertToInteractive(key) {\n",
              "        const element = document.querySelector('#df-1afdc073-a9f3-42af-9f5e-b108f1713f73');\n",
              "        const dataTable =\n",
              "          await google.colab.kernel.invokeFunction('convertToInteractive',\n",
              "                                                    [key], {});\n",
              "        if (!dataTable) return;\n",
              "\n",
              "        const docLinkHtml = 'Like what you see? Visit the ' +\n",
              "          '<a target=\"_blank\" href=https://colab.research.google.com/notebooks/data_table.ipynb>data table notebook</a>'\n",
              "          + ' to learn more about interactive tables.';\n",
              "        element.innerHTML = '';\n",
              "        dataTable['output_type'] = 'display_data';\n",
              "        await google.colab.output.renderOutput(dataTable, element);\n",
              "        const docLink = document.createElement('div');\n",
              "        docLink.innerHTML = docLinkHtml;\n",
              "        element.appendChild(docLink);\n",
              "      }\n",
              "    </script>\n",
              "  </div>\n",
              "\n",
              "\n",
              "    <div id=\"df-aeff76af-2104-4bf7-94d6-cade5a2a47c6\">\n",
              "      <button class=\"colab-df-quickchart\" onclick=\"quickchart('df-aeff76af-2104-4bf7-94d6-cade5a2a47c6')\"\n",
              "                title=\"Suggest charts\"\n",
              "                style=\"display:none;\">\n",
              "\n",
              "<svg xmlns=\"http://www.w3.org/2000/svg\" height=\"24px\"viewBox=\"0 0 24 24\"\n",
              "     width=\"24px\">\n",
              "    <g>\n",
              "        <path d=\"M19 3H5c-1.1 0-2 .9-2 2v14c0 1.1.9 2 2 2h14c1.1 0 2-.9 2-2V5c0-1.1-.9-2-2-2zM9 17H7v-7h2v7zm4 0h-2V7h2v10zm4 0h-2v-4h2v4z\"/>\n",
              "    </g>\n",
              "</svg>\n",
              "      </button>\n",
              "\n",
              "<style>\n",
              "  .colab-df-quickchart {\n",
              "      --bg-color: #E8F0FE;\n",
              "      --fill-color: #1967D2;\n",
              "      --hover-bg-color: #E2EBFA;\n",
              "      --hover-fill-color: #174EA6;\n",
              "      --disabled-fill-color: #AAA;\n",
              "      --disabled-bg-color: #DDD;\n",
              "  }\n",
              "\n",
              "  [theme=dark] .colab-df-quickchart {\n",
              "      --bg-color: #3B4455;\n",
              "      --fill-color: #D2E3FC;\n",
              "      --hover-bg-color: #434B5C;\n",
              "      --hover-fill-color: #FFFFFF;\n",
              "      --disabled-bg-color: #3B4455;\n",
              "      --disabled-fill-color: #666;\n",
              "  }\n",
              "\n",
              "  .colab-df-quickchart {\n",
              "    background-color: var(--bg-color);\n",
              "    border: none;\n",
              "    border-radius: 50%;\n",
              "    cursor: pointer;\n",
              "    display: none;\n",
              "    fill: var(--fill-color);\n",
              "    height: 32px;\n",
              "    padding: 0;\n",
              "    width: 32px;\n",
              "  }\n",
              "\n",
              "  .colab-df-quickchart:hover {\n",
              "    background-color: var(--hover-bg-color);\n",
              "    box-shadow: 0 1px 2px rgba(60, 64, 67, 0.3), 0 1px 3px 1px rgba(60, 64, 67, 0.15);\n",
              "    fill: var(--button-hover-fill-color);\n",
              "  }\n",
              "\n",
              "  .colab-df-quickchart-complete:disabled,\n",
              "  .colab-df-quickchart-complete:disabled:hover {\n",
              "    background-color: var(--disabled-bg-color);\n",
              "    fill: var(--disabled-fill-color);\n",
              "    box-shadow: none;\n",
              "  }\n",
              "\n",
              "  .colab-df-spinner {\n",
              "    border: 2px solid var(--fill-color);\n",
              "    border-color: transparent;\n",
              "    border-bottom-color: var(--fill-color);\n",
              "    animation:\n",
              "      spin 1s steps(1) infinite;\n",
              "  }\n",
              "\n",
              "  @keyframes spin {\n",
              "    0% {\n",
              "      border-color: transparent;\n",
              "      border-bottom-color: var(--fill-color);\n",
              "      border-left-color: var(--fill-color);\n",
              "    }\n",
              "    20% {\n",
              "      border-color: transparent;\n",
              "      border-left-color: var(--fill-color);\n",
              "      border-top-color: var(--fill-color);\n",
              "    }\n",
              "    30% {\n",
              "      border-color: transparent;\n",
              "      border-left-color: var(--fill-color);\n",
              "      border-top-color: var(--fill-color);\n",
              "      border-right-color: var(--fill-color);\n",
              "    }\n",
              "    40% {\n",
              "      border-color: transparent;\n",
              "      border-right-color: var(--fill-color);\n",
              "      border-top-color: var(--fill-color);\n",
              "    }\n",
              "    60% {\n",
              "      border-color: transparent;\n",
              "      border-right-color: var(--fill-color);\n",
              "    }\n",
              "    80% {\n",
              "      border-color: transparent;\n",
              "      border-right-color: var(--fill-color);\n",
              "      border-bottom-color: var(--fill-color);\n",
              "    }\n",
              "    90% {\n",
              "      border-color: transparent;\n",
              "      border-bottom-color: var(--fill-color);\n",
              "    }\n",
              "  }\n",
              "</style>\n",
              "\n",
              "      <script>\n",
              "        async function quickchart(key) {\n",
              "          const quickchartButtonEl =\n",
              "            document.querySelector('#' + key + ' button');\n",
              "          quickchartButtonEl.disabled = true;  // To prevent multiple clicks.\n",
              "          quickchartButtonEl.classList.add('colab-df-spinner');\n",
              "          try {\n",
              "            const charts = await google.colab.kernel.invokeFunction(\n",
              "                'suggestCharts', [key], {});\n",
              "          } catch (error) {\n",
              "            console.error('Error during call to suggestCharts:', error);\n",
              "          }\n",
              "          quickchartButtonEl.classList.remove('colab-df-spinner');\n",
              "          quickchartButtonEl.classList.add('colab-df-quickchart-complete');\n",
              "        }\n",
              "        (() => {\n",
              "          let quickchartButtonEl =\n",
              "            document.querySelector('#df-aeff76af-2104-4bf7-94d6-cade5a2a47c6 button');\n",
              "          quickchartButtonEl.style.display =\n",
              "            google.colab.kernel.accessAllowed ? 'block' : 'none';\n",
              "        })();\n",
              "      </script>\n",
              "    </div>\n",
              "\n",
              "  <div id=\"id_6ca6c9a7-238f-400b-a485-8c56772a0765\">\n",
              "    <style>\n",
              "      .colab-df-generate {\n",
              "        background-color: #E8F0FE;\n",
              "        border: none;\n",
              "        border-radius: 50%;\n",
              "        cursor: pointer;\n",
              "        display: none;\n",
              "        fill: #1967D2;\n",
              "        height: 32px;\n",
              "        padding: 0 0 0 0;\n",
              "        width: 32px;\n",
              "      }\n",
              "\n",
              "      .colab-df-generate:hover {\n",
              "        background-color: #E2EBFA;\n",
              "        box-shadow: 0px 1px 2px rgba(60, 64, 67, 0.3), 0px 1px 3px 1px rgba(60, 64, 67, 0.15);\n",
              "        fill: #174EA6;\n",
              "      }\n",
              "\n",
              "      [theme=dark] .colab-df-generate {\n",
              "        background-color: #3B4455;\n",
              "        fill: #D2E3FC;\n",
              "      }\n",
              "\n",
              "      [theme=dark] .colab-df-generate:hover {\n",
              "        background-color: #434B5C;\n",
              "        box-shadow: 0px 1px 3px 1px rgba(0, 0, 0, 0.15);\n",
              "        filter: drop-shadow(0px 1px 2px rgba(0, 0, 0, 0.3));\n",
              "        fill: #FFFFFF;\n",
              "      }\n",
              "    </style>\n",
              "    <button class=\"colab-df-generate\" onclick=\"generateWithVariable('df')\"\n",
              "            title=\"Generate code using this dataframe.\"\n",
              "            style=\"display:none;\">\n",
              "\n",
              "  <svg xmlns=\"http://www.w3.org/2000/svg\" height=\"24px\"viewBox=\"0 0 24 24\"\n",
              "       width=\"24px\">\n",
              "    <path d=\"M7,19H8.4L18.45,9,17,7.55,7,17.6ZM5,21V16.75L18.45,3.32a2,2,0,0,1,2.83,0l1.4,1.43a1.91,1.91,0,0,1,.58,1.4,1.91,1.91,0,0,1-.58,1.4L9.25,21ZM18.45,9,17,7.55Zm-12,3A5.31,5.31,0,0,0,4.9,8.1,5.31,5.31,0,0,0,1,6.5,5.31,5.31,0,0,0,4.9,4.9,5.31,5.31,0,0,0,6.5,1,5.31,5.31,0,0,0,8.1,4.9,5.31,5.31,0,0,0,12,6.5,5.46,5.46,0,0,0,6.5,12Z\"/>\n",
              "  </svg>\n",
              "    </button>\n",
              "    <script>\n",
              "      (() => {\n",
              "      const buttonEl =\n",
              "        document.querySelector('#id_6ca6c9a7-238f-400b-a485-8c56772a0765 button.colab-df-generate');\n",
              "      buttonEl.style.display =\n",
              "        google.colab.kernel.accessAllowed ? 'block' : 'none';\n",
              "\n",
              "      buttonEl.onclick = () => {\n",
              "        google.colab.notebook.generateWithVariable('df');\n",
              "      }\n",
              "      })();\n",
              "    </script>\n",
              "  </div>\n",
              "\n",
              "    </div>\n",
              "  </div>\n"
            ],
            "application/vnd.google.colaboratory.intrinsic+json": {
              "type": "dataframe",
              "variable_name": "df",
              "summary": "{\n  \"name\": \"df\",\n  \"rows\": 4,\n  \"fields\": [\n    {\n      \"column\": \"cgpa\",\n      \"properties\": {\n        \"dtype\": \"number\",\n        \"std\": 1,\n        \"min\": 5,\n        \"max\": 8,\n        \"num_unique_values\": 4,\n        \"samples\": [\n          7,\n          5,\n          8\n        ],\n        \"semantic_type\": \"\",\n        \"description\": \"\"\n      }\n    },\n    {\n      \"column\": \"resume_score\",\n      \"properties\": {\n        \"dtype\": \"number\",\n        \"std\": 1,\n        \"min\": 8,\n        \"max\": 12,\n        \"num_unique_values\": 4,\n        \"samples\": [\n          9,\n          12,\n          8\n        ],\n        \"semantic_type\": \"\",\n        \"description\": \"\"\n      }\n    },\n    {\n      \"column\": \"lpa\",\n      \"properties\": {\n        \"dtype\": \"number\",\n        \"std\": 1,\n        \"min\": 4,\n        \"max\": 7,\n        \"num_unique_values\": 4,\n        \"samples\": [\n          5,\n          7,\n          4\n        ],\n        \"semantic_type\": \"\",\n        \"description\": \"\"\n      }\n    }\n  ]\n}"
            }
          },
          "metadata": {},
          "execution_count": 176
        }
      ]
    },
    {
      "cell_type": "code",
      "source": [
        "def initialize_parameters(layer_dims):\n",
        "  parameters={}\n",
        "  L = len(layer_dims)\n",
        "\n",
        "  for l in range(1, L):\n",
        "    parameters['W' + str(l)] = np.ones((layer_dims[l-1], layer_dims[l])) * 0.1\n",
        "    parameters['b' + str(l)] = np.zeros((layer_dims[l], 1))\n",
        "\n",
        "  return parameters"
      ],
      "metadata": {
        "id": "M23A9KT2LbmN"
      },
      "execution_count": 177,
      "outputs": []
    },
    {
      "cell_type": "code",
      "source": [
        "initialize_parameters([2, 2, 1])"
      ],
      "metadata": {
        "colab": {
          "base_uri": "https://localhost:8080/"
        },
        "id": "A1CDsGP-QrLO",
        "outputId": "e2477778-fca9-4148-d59b-fe3007507262"
      },
      "execution_count": 178,
      "outputs": [
        {
          "output_type": "execute_result",
          "data": {
            "text/plain": [
              "{'W1': array([[0.1, 0.1],\n",
              "        [0.1, 0.1]]),\n",
              " 'b1': array([[0.],\n",
              "        [0.]]),\n",
              " 'W2': array([[0.1],\n",
              "        [0.1]]),\n",
              " 'b2': array([[0.]])}"
            ]
          },
          "metadata": {},
          "execution_count": 178
        }
      ]
    },
    {
      "cell_type": "code",
      "source": [
        "def linear_forward(A_prev, W, b):\n",
        "  z = np.dot(W.T, A_prev) + b\n",
        "\n",
        "  return z"
      ],
      "metadata": {
        "id": "JYmdM5JGQuvQ"
      },
      "execution_count": 179,
      "outputs": []
    },
    {
      "cell_type": "code",
      "source": [
        "# forward propagation\n",
        "\n",
        "def L_layer_forward(X, parameters):\n",
        "  A = X\n",
        "  L = len(parameters) // 2\n",
        "\n",
        "  for l in range(1, L + 1):\n",
        "    A_prev = A\n",
        "    w1 = parameters['W' + str(l)]\n",
        "    b1 = parameters['b' + str(l)]\n",
        "    print(\"A_prev\" + str(l) + \":\", A_prev)\n",
        "    print(\"b\" + str(l) + \":\", b1)\n",
        "    print(\"w\" + str(l) + \":\", w1)\n",
        "    A = linear_forward(A_prev, w1, b1)\n",
        "    print(\"A\" + str(l) + \":\", A)\n",
        "\n",
        "    print(\"**\" * 20)\n",
        "  return A, A_prev"
      ],
      "metadata": {
        "id": "Q5TdYq9IrvXZ"
      },
      "execution_count": 180,
      "outputs": []
    },
    {
      "cell_type": "code",
      "source": [
        "x = df[['cgpa', 'resume_score']].values[0].reshape(2, 1)\n",
        "y = df[['lpa']].values[0][0]\n",
        "\n",
        "# parameters initialisation\n",
        "parameters = initialize_parameters([2, 2, 1])\n",
        "\n",
        "y_hat, A1 = L_layer_forward(x, parameters)"
      ],
      "metadata": {
        "colab": {
          "base_uri": "https://localhost:8080/"
        },
        "id": "EkkLAgZDsW7s",
        "outputId": "f000077c-4455-4491-deb2-33e0b18a939a"
      },
      "execution_count": 181,
      "outputs": [
        {
          "output_type": "stream",
          "name": "stdout",
          "text": [
            "A_prev1: [[8]\n",
            " [8]]\n",
            "b1: [[0.]\n",
            " [0.]]\n",
            "w1: [[0.1 0.1]\n",
            " [0.1 0.1]]\n",
            "A1: [[1.6]\n",
            " [1.6]]\n",
            "****************************************\n",
            "A_prev2: [[1.6]\n",
            " [1.6]]\n",
            "b2: [[0.]]\n",
            "w2: [[0.1]\n",
            " [0.1]]\n",
            "A2: [[0.32]]\n",
            "****************************************\n"
          ]
        }
      ]
    },
    {
      "cell_type": "code",
      "source": [
        "y_hat = y_hat[0][0]"
      ],
      "metadata": {
        "id": "ezpDLVKXtQVL"
      },
      "execution_count": 182,
      "outputs": []
    },
    {
      "cell_type": "code",
      "source": [
        "y_hat"
      ],
      "metadata": {
        "id": "s6GnNzKXuPYE",
        "outputId": "9f1c51df-2d72-4e4c-d719-cafa10d7343c",
        "colab": {
          "base_uri": "https://localhost:8080/"
        }
      },
      "execution_count": 183,
      "outputs": [
        {
          "output_type": "execute_result",
          "data": {
            "text/plain": [
              "np.float64(0.32000000000000006)"
            ]
          },
          "metadata": {},
          "execution_count": 183
        }
      ]
    },
    {
      "cell_type": "code",
      "source": [
        "A1"
      ],
      "metadata": {
        "id": "IxvLvRWuuQ5b",
        "outputId": "7ddb7eca-ea07-45a4-f9e6-bc81a8e5a5e5",
        "colab": {
          "base_uri": "https://localhost:8080/"
        }
      },
      "execution_count": 184,
      "outputs": [
        {
          "output_type": "execute_result",
          "data": {
            "text/plain": [
              "array([[1.6],\n",
              "       [1.6]])"
            ]
          },
          "metadata": {},
          "execution_count": 184
        }
      ]
    },
    {
      "cell_type": "code",
      "source": [
        "parameters"
      ],
      "metadata": {
        "id": "yQsM76c8uULY",
        "colab": {
          "base_uri": "https://localhost:8080/"
        },
        "outputId": "a4f680d9-e300-477a-fcc5-5fe392759124"
      },
      "execution_count": 185,
      "outputs": [
        {
          "output_type": "execute_result",
          "data": {
            "text/plain": [
              "{'W1': array([[0.1, 0.1],\n",
              "        [0.1, 0.1]]),\n",
              " 'b1': array([[0.],\n",
              "        [0.]]),\n",
              " 'W2': array([[0.1],\n",
              "        [0.1]]),\n",
              " 'b2': array([[0.]])}"
            ]
          },
          "metadata": {},
          "execution_count": 185
        }
      ]
    },
    {
      "cell_type": "code",
      "source": [
        "def update_parameters(parameters, y, y_hat, A1, x):\n",
        "    lr = 0.001\n",
        "    # Convert everything to scalars\n",
        "    y_val = y.item() if isinstance(y, np.ndarray) else y\n",
        "    y_hat_val = y_hat.item() if isinstance(y_hat, np.ndarray) else y_hat\n",
        "\n",
        "    A1_0 = A1[0,0] if isinstance(A1, np.ndarray) else A1[0]\n",
        "    A1_1 = A1[1,0] if isinstance(A1, np.ndarray) else A1[1]\n",
        "    x0 = x[0,0] if isinstance(x, np.ndarray) else x[0]\n",
        "    x1 = x[1,0] if isinstance(x, np.ndarray) else x[1]\n",
        "\n",
        "    error = y_val - y_hat_val\n",
        "\n",
        "    # Update output layer\n",
        "    W2_0 = parameters['W2'][0,0].item() if isinstance(parameters['W2'][0,0], np.ndarray) else parameters['W2'][0,0]\n",
        "    W2_1 = parameters['W2'][1,0].item() if isinstance(parameters['W2'][1,0], np.ndarray) else parameters['W2'][1,0]\n",
        "\n",
        "    parameters['W2'][0,0] = W2_0 + lr * 2 * error * A1_0\n",
        "    parameters['W2'][1,0] = W2_1 + lr * 2 * error * A1_1\n",
        "    parameters['b2'][0,0] = parameters['b2'][0,0].item() + lr * 2 * error\n",
        "\n",
        "    # Update hidden layer\n",
        "    parameters['W1'][0,0] = parameters['W1'][0,0].item() + lr * 2 * error * W2_0 * x0\n",
        "    parameters['W1'][0,1] = parameters['W1'][0,1].item() + lr * 2 * error * W2_0 * x1\n",
        "    parameters['b1'][0,0] = parameters['b1'][0,0].item() + lr * 2 * error * W2_0\n",
        "\n",
        "    parameters['W1'][1,0] = parameters['W1'][1,0].item() + lr * 2 * error * W2_1 * x0\n",
        "    parameters['W1'][1,1] = parameters['W1'][1,1].item() + lr * 2 * error * W2_1 * x1\n",
        "    parameters['b1'][1,0] = parameters['b1'][1,0].item() + lr * 2 * error * W2_1\n",
        "\n",
        "    return parameters\n"
      ],
      "metadata": {
        "id": "oNuF2VOjvC8-"
      },
      "execution_count": 186,
      "outputs": []
    },
    {
      "cell_type": "code",
      "source": [
        "update_parameters(parameters, y, y_hat, A1, x)"
      ],
      "metadata": {
        "colab": {
          "base_uri": "https://localhost:8080/"
        },
        "id": "NAYWUSTY3am0",
        "outputId": "dfa63a25-f0a2-4001-b8d2-7815829bb3f5"
      },
      "execution_count": 187,
      "outputs": [
        {
          "output_type": "execute_result",
          "data": {
            "text/plain": [
              "{'W1': array([[0.105888, 0.105888],\n",
              "        [0.105888, 0.105888]]),\n",
              " 'b1': array([[0.000736],\n",
              "        [0.000736]]),\n",
              " 'W2': array([[0.111776],\n",
              "        [0.111776]]),\n",
              " 'b2': array([[0.00736]])}"
            ]
          },
          "metadata": {},
          "execution_count": 187
        }
      ]
    },
    {
      "cell_type": "code",
      "source": [
        "parameters"
      ],
      "metadata": {
        "colab": {
          "base_uri": "https://localhost:8080/"
        },
        "id": "UIJ1TslH3kQB",
        "outputId": "63dc0078-cc16-4ba8-862c-05f28ddb4215"
      },
      "execution_count": 188,
      "outputs": [
        {
          "output_type": "execute_result",
          "data": {
            "text/plain": [
              "{'W1': array([[0.105888, 0.105888],\n",
              "        [0.105888, 0.105888]]),\n",
              " 'b1': array([[0.000736],\n",
              "        [0.000736]]),\n",
              " 'W2': array([[0.111776],\n",
              "        [0.111776]]),\n",
              " 'b2': array([[0.00736]])}"
            ]
          },
          "metadata": {},
          "execution_count": 188
        }
      ]
    },
    {
      "cell_type": "code",
      "source": [
        "x = df[['cgpa', 'resume_score']].values[3].reshape(2, 1)\n",
        "y = df[['lpa']].values[3][0]\n",
        "\n",
        "y_hat, A1 = L_layer_forward(x, parameters)"
      ],
      "metadata": {
        "colab": {
          "base_uri": "https://localhost:8080/"
        },
        "id": "3KY_uy3r3lxT",
        "outputId": "12822ebd-3e66-473a-c04a-5f03fe3ebfb5"
      },
      "execution_count": 189,
      "outputs": [
        {
          "output_type": "stream",
          "name": "stdout",
          "text": [
            "A_prev1: [[ 5]\n",
            " [12]]\n",
            "b1: [[0.000736]\n",
            " [0.000736]]\n",
            "w1: [[0.105888 0.105888]\n",
            " [0.105888 0.105888]]\n",
            "A1: [[1.800832]\n",
            " [1.800832]]\n",
            "****************************************\n",
            "A_prev2: [[1.800832]\n",
            " [1.800832]]\n",
            "b2: [[0.00736]]\n",
            "w2: [[0.111776]\n",
            " [0.111776]]\n",
            "A2: [[0.4099396]]\n",
            "****************************************\n"
          ]
        }
      ]
    },
    {
      "cell_type": "code",
      "source": [
        "update_parameters(parameters, y, y_hat, A1, x)"
      ],
      "metadata": {
        "colab": {
          "base_uri": "https://localhost:8080/"
        },
        "id": "OXBGdhLQ373f",
        "outputId": "dc2ee5e5-6fb1-48d5-f9a7-57b5a516fe68"
      },
      "execution_count": 190,
      "outputs": [
        {
          "output_type": "execute_result",
          "data": {
            "text/plain": [
              "{'W1': array([[0.11325411, 0.12356665],\n",
              "        [0.11325411, 0.12356665]]),\n",
              " 'b1': array([[0.00220922],\n",
              "        [0.00220922]]),\n",
              " 'W2': array([[0.13551118],\n",
              "        [0.13551118]]),\n",
              " 'b2': array([[0.02054012]])}"
            ]
          },
          "metadata": {},
          "execution_count": 190
        }
      ]
    },
    {
      "cell_type": "code",
      "source": [
        "parameters"
      ],
      "metadata": {
        "colab": {
          "base_uri": "https://localhost:8080/"
        },
        "id": "IwjgkaYo4FLS",
        "outputId": "13e496ca-7d0f-4dd7-927e-078a61317c76"
      },
      "execution_count": 191,
      "outputs": [
        {
          "output_type": "execute_result",
          "data": {
            "text/plain": [
              "{'W1': array([[0.11325411, 0.12356665],\n",
              "        [0.11325411, 0.12356665]]),\n",
              " 'b1': array([[0.00220922],\n",
              "        [0.00220922]]),\n",
              " 'W2': array([[0.13551118],\n",
              "        [0.13551118]]),\n",
              " 'b2': array([[0.02054012]])}"
            ]
          },
          "metadata": {},
          "execution_count": 191
        }
      ]
    },
    {
      "cell_type": "code",
      "source": [
        "# epochs implementation\n",
        "\n",
        "parameters = initialize_parameters([2, 2, 1])\n",
        "epochs = 5\n",
        "\n",
        "for i in range(epochs):\n",
        "  loss = []\n",
        "  for j in range(df.shape[0]):\n",
        "    x = df[['cgpa', 'resume_score']].values[j].reshape(2, 1)\n",
        "    y = df[['lpa']].values[j][0]\n",
        "\n",
        "    y_hat, A1 = L_layer_forward(x, parameters)\n",
        "    y_hat = y_hat[0][0]\n",
        "\n",
        "    update_parameters(parameters, y, y_hat, A1, x)\n",
        "    loss.append((y - y_hat) ** 2)\n",
        "\n",
        "  print('Epoch - ', i+1, 'Loss - ', np.array(loss).mean())\n",
        "\n",
        "\n",
        "parameters"
      ],
      "metadata": {
        "colab": {
          "base_uri": "https://localhost:8080/"
        },
        "id": "FGya07owB0IM",
        "outputId": "d4cdbf94-b43c-4589-a1a0-bdfe41ca077e"
      },
      "execution_count": 192,
      "outputs": [
        {
          "output_type": "stream",
          "name": "stdout",
          "text": [
            "A_prev1: [[8]\n",
            " [8]]\n",
            "b1: [[0.]\n",
            " [0.]]\n",
            "w1: [[0.1 0.1]\n",
            " [0.1 0.1]]\n",
            "A1: [[1.6]\n",
            " [1.6]]\n",
            "****************************************\n",
            "A_prev2: [[1.6]\n",
            " [1.6]]\n",
            "b2: [[0.]]\n",
            "w2: [[0.1]\n",
            " [0.1]]\n",
            "A2: [[0.32]]\n",
            "****************************************\n",
            "A_prev1: [[7]\n",
            " [9]]\n",
            "b1: [[0.000736]\n",
            " [0.000736]]\n",
            "w1: [[0.105888 0.105888]\n",
            " [0.105888 0.105888]]\n",
            "A1: [[1.694944]\n",
            " [1.694944]]\n",
            "****************************************\n",
            "A_prev2: [[1.694944]\n",
            " [1.694944]]\n",
            "b2: [[0.00736]]\n",
            "w2: [[0.111776]\n",
            " [0.111776]]\n",
            "A2: [[0.38626812]]\n",
            "****************************************\n",
            "A_prev1: [[ 6]\n",
            " [10]]\n",
            "b1: [[0.00176741]\n",
            " [0.00176741]]\n",
            "w1: [[0.11310786 0.11517068]\n",
            " [0.11310786 0.11517068]]\n",
            "A1: [[1.81149322]\n",
            " [1.8444983 ]]\n",
            "****************************************\n",
            "A_prev2: [[1.81149322]\n",
            " [1.8444983 ]]\n",
            "b2: [[0.01658746]]\n",
            "w2: [[0.12741603]\n",
            " [0.12741603]]\n",
            "A2: [[0.4824194]]\n",
            "****************************************\n",
            "A_prev1: [[ 5]\n",
            " [12]]\n",
            "b1: [[0.00317347]\n",
            " [0.00317347]]\n",
            "w1: [[0.1215442  0.12923125]\n",
            " [0.1215442  0.12923125]]\n",
            "A1: [[2.0694249 ]\n",
            " [2.20010464]]\n",
            "****************************************\n",
            "A_prev2: [[2.0694249 ]\n",
            " [2.20010464]]\n",
            "b2: [[0.02762262]]\n",
            "w2: [[0.14740615]\n",
            " [0.14777037]]\n",
            "A2: [[0.65777887]]\n",
            "****************************************\n",
            "Epoch -  1 Loss -  26.37409659194819\n",
            "A_prev1: [[8]\n",
            " [8]]\n",
            "b1: [[0.00504323]\n",
            " [0.00504785]]\n",
            "w1: [[0.13089303 0.15166842]\n",
            " [0.13091613 0.15172386]]\n",
            "A1: [[2.09951644]\n",
            " [2.43218614]]\n",
            "****************************************\n",
            "A_prev2: [[2.09951644]\n",
            " [2.43218614]]\n",
            "b2: [[0.04030707]]\n",
            "w2: [[0.17365565]\n",
            " [0.17567747]]\n",
            "A2: [[0.83218028]]\n",
            "****************************************\n",
            "A_prev1: [[7]\n",
            " [9]]\n",
            "b1: [[0.00614345]\n",
            " [0.00616088]]\n",
            "w1: [[0.13969478 0.16047018]\n",
            " [0.13982036 0.1606281 ]]\n",
            "A1: [[2.24239016]\n",
            " [2.575105  ]]\n",
            "****************************************\n",
            "A_prev2: [[2.24239016]\n",
            " [2.575105  ]]\n",
            "b2: [[0.04664271]]\n",
            "w2: [[0.18695743]\n",
            " [0.19108693]]\n",
            "A2: [[0.95794311]]\n",
            "****************************************\n",
            "A_prev1: [[ 6]\n",
            " [10]]\n",
            "b1: [[0.00765484]\n",
            " [0.00770565]]\n",
            "w1: [[0.15027448 0.17407265]\n",
            " [0.15063374 0.17453101]]\n",
            "A1: [[2.41563908]\n",
            " [2.79745164]]\n",
            "****************************************\n",
            "A_prev2: [[2.41563908]\n",
            " [2.79745164]]\n",
            "b2: [[0.05472682]]\n",
            "w2: [[0.20508517]\n",
            " [0.21190437]]\n",
            "A2: [[1.14293079]]\n",
            "****************************************\n",
            "A_prev1: [[ 5]\n",
            " [12]]\n",
            "b1: [[0.00964706]\n",
            " [0.00976412]]\n",
            "w1: [[0.16222783 0.1939949 ]\n",
            " [0.16298455 0.19511569]]\n",
            "A1: [[2.7766008 ]\n",
            " [3.32112698]]\n",
            "****************************************\n",
            "A_prev2: [[2.7766008 ]\n",
            " [3.32112698]]\n",
            "b2: [[0.06444096]]\n",
            "w2: [[0.22855102]\n",
            " [0.2390792 ]]\n",
            "A2: [[1.49304829]]\n",
            "****************************************\n",
            "Epoch -  2 Loss -  20.072736010883336\n",
            "A_prev1: [[8]\n",
            " [8]]\n",
            "b1: [[0.0121643 ]\n",
            " [0.01239731]]\n",
            "w1: [[0.17481403 0.22420177]\n",
            " [0.17615052 0.22671404]]\n",
            "A1: [[2.81988071]\n",
            " [3.61972378]]\n",
            "****************************************\n",
            "A_prev2: [[2.81988071]\n",
            " [3.61972378]]\n",
            "b2: [[0.07545486]]\n",
            "w2: [[0.25913224]\n",
            " [0.27565777]]\n",
            "A2: [[1.80398185]]\n",
            "****************************************\n",
            "A_prev1: [[7]\n",
            " [9]]\n",
            "b1: [[0.01330242]\n",
            " [0.01360801]]\n",
            "w1: [[0.18391897 0.23330672]\n",
            " [0.18583612 0.23639963]]\n",
            "A1: [[2.97326027]\n",
            " [3.77435169]]\n",
            "****************************************\n",
            "A_prev2: [[2.97326027]\n",
            " [3.77435169]]\n",
            "b2: [[0.0798469]]\n",
            "w2: [[0.27151725]\n",
            " [0.29155573]]\n",
            "A2: [[1.98757222]]\n",
            "****************************************\n",
            "A_prev1: [[ 6]\n",
            " [10]]\n",
            "b1: [[0.01493827]\n",
            " [0.01536459]]\n",
            "w1: [[0.19536994 0.24802939]\n",
            " [0.19813218 0.25220886]]\n",
            "A1: [[3.16847974]\n",
            " [4.02562951]]\n",
            "****************************************\n",
            "A_prev2: [[3.16847974]\n",
            " [4.02562951]]\n",
            "b2: [[0.08587175]]\n",
            "w2: [[0.28943072]\n",
            " [0.31429565]]\n",
            "A2: [[2.26816498]]\n",
            "****************************************\n",
            "A_prev1: [[ 5]\n",
            " [12]]\n",
            "b1: [[0.01709849]\n",
            " [0.01771039]]\n",
            "w1: [[0.20833123 0.26963154]\n",
            " [0.21220698 0.27566685]]\n",
            "A1: [[3.60523837]\n",
            " [4.67387029]]\n",
            "****************************************\n",
            "A_prev2: [[3.60523837]\n",
            " [4.67387029]]\n",
            "b2: [[0.09333542]]\n",
            "w2: [[0.31307921]\n",
            " [0.34434162]]\n",
            "A2: [[2.83146868]]\n",
            "****************************************\n",
            "Epoch -  3 Loss -  11.300115717590234\n",
            "A_prev1: [[8]\n",
            " [8]]\n",
            "b1: [[0.01970865]\n",
            " [0.02058119]]\n",
            "w1: [[0.22138204 0.30095347]\n",
            " [0.22656097 0.31011642]]\n",
            "A1: [[3.60325266]\n",
            " [4.90914034]]\n",
            "****************************************\n",
            "A_prev2: [[3.60325266]\n",
            " [4.90914034]]\n",
            "b2: [[0.10167249]]\n",
            "w2: [[0.3431363 ]\n",
            " [0.38330797]]\n",
            "A2: [[3.21979192]]\n",
            "****************************************\n",
            "A_prev1: [[7]\n",
            " [9]]\n",
            "b1: [[0.02024408]\n",
            " [0.02117931]]\n",
            "w1: [[0.22566552 0.30523696]\n",
            " [0.23134593 0.31490138]]\n",
            "A1: [[3.68201605]\n",
            " [4.99195043]]\n",
            "****************************************\n",
            "A_prev2: [[3.68201605]\n",
            " [4.99195043]]\n",
            "b2: [[0.1032329]]\n",
            "w2: [[0.34875888]\n",
            " [0.39096827]]\n",
            "A2: [[3.33906294]]\n",
            "****************************************\n",
            "A_prev1: [[ 6]\n",
            " [10]]\n",
            "b1: [[0.02140262]\n",
            " [0.02247806]]\n",
            "w1: [[0.23377525 0.31566375]\n",
            " [0.24043716 0.32659011]]\n",
            "A1: [[3.8284257 ]\n",
            " [5.18236166]]\n",
            "****************************************\n",
            "A_prev2: [[3.8284257 ]\n",
            " [5.18236166]]\n",
            "b2: [[0.10655478]]\n",
            "w2: [[0.36099007]\n",
            " [0.40755091]]\n",
            "A2: [[3.60065463]]\n",
            "****************************************\n",
            "A_prev1: [[ 5]\n",
            " [12]]\n",
            "b1: [[0.02313489]\n",
            " [0.02443377]]\n",
            "w1: [[0.24416893 0.33298655]\n",
            " [0.25217142 0.34614722]]\n",
            "A1: [[4.27003661]\n",
            " [5.84313311]]\n",
            "****************************************\n",
            "A_prev2: [[4.27003661]\n",
            " [5.84313311]]\n",
            "b2: [[0.11135347]]\n",
            "w2: [[0.3793615 ]\n",
            " [0.43241946]]\n",
            "A2: [[4.25792542]]\n",
            "****************************************\n",
            "Epoch -  4 Loss -  4.160816947552781\n",
            "A_prev1: [[8]\n",
            " [8]]\n",
            "b1: [[0.02521537]\n",
            " [0.02680522]]\n",
            "w1: [[0.2545713  0.35795225]\n",
            " [0.26402869 0.37460465]]\n",
            "A1: [[4.1740153 ]\n",
            " [5.88726043]]\n",
            "****************************************\n",
            "A_prev2: [[4.1740153 ]\n",
            " [5.88726043]]\n",
            "b2: [[0.11683762]]\n",
            "w2: [[0.40277902]\n",
            " [0.46446407]]\n",
            "A2: [[4.53246435]]\n",
            "****************************************\n",
            "A_prev1: [[7]\n",
            " [9]]\n",
            "b1: [[0.02478644]\n",
            " [0.0263106 ]]\n",
            "w1: [[0.25113986 0.3545208 ]\n",
            " [0.26007172 0.37064768]]\n",
            "A1: [[4.12341089]\n",
            " [5.84378535]]\n",
            "****************************************\n",
            "A_prev2: [[4.12341089]\n",
            " [5.84378535]]\n",
            "b2: [[0.11577269]]\n",
            "w2: [[0.39833399]\n",
            " [0.45819456]]\n",
            "A2: [[4.43585805]]\n",
            "****************************************\n",
            "A_prev1: [[ 6]\n",
            " [10]]\n",
            "b1: [[0.02523587]\n",
            " [0.02682757]]\n",
            "w1: [[0.25428589 0.35856571]\n",
            " [0.26369053 0.37530044]]\n",
            "A1: [[4.18785656]\n",
            " [5.93122625]]\n",
            "****************************************\n",
            "A_prev2: [[4.18785656]\n",
            " [5.93122625]]\n",
            "b2: [[0.11690097]]\n",
            "w2: [[0.40298637]\n",
            " [0.46478801]]\n",
            "A2: [[4.56131291]]\n",
            "****************************************\n",
            "A_prev1: [[ 5]\n",
            " [12]]\n",
            "b1: [[0.02639542]\n",
            " [0.02816494]]\n",
            "w1: [[0.26124315 0.37016113]\n",
            " [0.27171475 0.38867413]]\n",
            "A1: [[4.59318811]\n",
            " [6.5430602 ]]\n",
            "****************************************\n",
            "A_prev2: [[4.59318811]\n",
            " [6.5430602 ]]\n",
            "b2: [[0.11977835]]\n",
            "w2: [[0.4150364 ]\n",
            " [0.48185436]]\n",
            "A2: [[5.17892072]]\n",
            "****************************************\n",
            "Epoch -  5 Loss -  1.49698118186726\n"
          ]
        },
        {
          "output_type": "execute_result",
          "data": {
            "text/plain": [
              "{'W1': array([[0.26880129, 0.38830067],\n",
              "        [0.2804897 , 0.40973401]]),\n",
              " 'b1': array([[0.02790704],\n",
              "        [0.02991993]]),\n",
              " 'W2': array([[0.43176552],\n",
              "        [0.50568523]]),\n",
              " 'b2': array([[0.1234205]])}"
            ]
          },
          "metadata": {},
          "execution_count": 192
        }
      ]
    },
    {
      "cell_type": "code",
      "source": [],
      "metadata": {
        "id": "6aIIyGTSIQwb"
      },
      "execution_count": 192,
      "outputs": []
    }
  ]
}